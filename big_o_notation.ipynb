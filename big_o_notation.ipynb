{
 "cells": [
  {
   "cell_type": "markdown",
   "metadata": {},
   "source": [
    "# Matplotlib Warmup\n",
    "## Exercise \n",
    "Make a new Jupyter notebook named big_o_notation.ipynb\n",
    "Title your chart \"Big O Notation\"\n",
    "Label your x axis \"Elements\"\n",
    "Label your y axis \"Operations\"\n",
    "Label your curves or make a legend for the curves\n",
    "## Curves to graph\n",
    "* $y = 0x + 1$ and label the curve \"O(1)\"\n",
    "* $y = log(x)$ and label the curve \"O(log n)\"\n",
    "* $y = x$ and label the curve \"O(n)\"\n",
    "* $y = x * log(x)$ and label it \"O(n log n)\"\n",
    "* $y = x^2$ and label it \"O(n^2)\"\n",
    "* $y = 2^x$ and label it \"O(2^n)\"\n",
    "* $y = n!$ and label is \"O(n!)\"\n",
    "* $y = n^n$ and label it \"O(n^n)\"\n"
   ]
  },
  {
   "cell_type": "code",
   "execution_count": 2,
   "metadata": {},
   "outputs": [],
   "source": [
    "import matplotlib.pyplot as plt\n",
    "import math as mt"
   ]
  },
  {
   "cell_type": "code",
   "execution_count": 3,
   "metadata": {},
   "outputs": [
    {
     "data": {
      "image/png": "[encoded data removed]",
      "text/plain": [
       "<Figure size 432x288 with 1 Axes>"
      ]
     },
     "metadata": {
      "needs_background": "light"
     },
     "output_type": "display_data"
    }
   ],
   "source": [
    "\n",
    "\n",
    "\n",
    "\n",
    "x = range(1, 10)\n",
    "y1 = [0 * n + 1 for n in x]\n",
    "y2 = [mt.log(n) for n in x]\n",
    "y3 = [n for n in x]\n",
    "y4 = [n * mt.log(n) for n in x]\n",
    "y5 = [n ** 2 for n in x]\n",
    "y6 = [2 ** n for n in x]\n",
    "y7 = [mt.factorial(n) for n in x]\n",
    "y8 = [n ** n for n in x]\n",
    "\n",
    "\n",
    "\n",
    "plt.plot(x, y1, label ='O(1)')\n",
    "plt.plot(x, y2, label ='O(1)')\n",
    "plt.plot(x, y3, label ='O(1)')\n",
    "plt.plot(x, y4, label ='O(1)')\n",
    "plt.plot(x, y5, label ='O(1)')\n",
    "plt.plot(x, y6, label ='O(1)')\n",
    "plt.plot(x, y7, label ='O(1)')\n",
    "plt.plot(x, y8, label ='O(1)')\n",
    "\n",
    "plt.xlabel('Elements')\n",
    "plt.ylabel('Operations')\n",
    "plt.title('Big O NOtation')\n",
    "plt.show()\n"
   ]
  },
  {
   "cell_type": "code",
   "execution_count": null,
   "metadata": {},
   "outputs": [],
   "source": []
  },
  {
   "cell_type": "code",
   "execution_count": null,
   "metadata": {},
   "outputs": [],
   "source": []
  },
  {
   "cell_type": "code",
   "execution_count": null,
   "metadata": {},
   "outputs": [],
   "source": []
  }
 ],
 "metadata": {
  "kernelspec": {
   "display_name": "Python 3",
   "language": "python",
   "name": "python3"
  },
  "language_info": {
   "codemirror_mode": {
    "name": "ipython",
    "version": 3
   },
   "file_extension": ".py",
   "mimetype": "text/x-python",
   "name": "python",
   "nbconvert_exporter": "python",
   "pygments_lexer": "ipython3",
   "version": "3.7.4"
  }
 },
 "nbformat": 4,
 "nbformat_minor": 2
}
